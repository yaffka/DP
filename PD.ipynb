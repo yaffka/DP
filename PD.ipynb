{
  "cells": [
    {
      "cell_type": "markdown",
      "metadata": {
        "id": "view-in-github",
        "colab_type": "text"
      },
      "source": [
        "<a href=\"https://colab.research.google.com/github/yaffka/DP/blob/main/PD.ipynb\" target=\"_parent\"><img src=\"https://colab.research.google.com/assets/colab-badge.svg\" alt=\"Open In Colab\"/></a>"
      ]
    },
    {
      "cell_type": "code",
      "execution_count": 9,
      "metadata": {
        "id": "RzjrWjYJog1M"
      },
      "outputs": [],
      "source": [
        "import pandas as pd\n",
        "import numpy as np\n",
        "import matplotlib.pyplot as plt\n",
        "import math\n",
        "#import itertools\n"
      ]
    },
    {
      "cell_type": "code",
      "execution_count": 10,
      "metadata": {
        "id": "AKoBCwt6oQWZ"
      },
      "outputs": [],
      "source": [
        "def fpKa (G, root):\n",
        " df=pd.read_csv(root)\n",
        " cols = len(df.axes[1])\n",
        " pKas = np.zeros((len(df)-1, cols))\n",
        " rows = len(df.axes[0])\n",
        " for m in range(cols):\n",
        "    for i in range(rows-1):\n",
        "       pKa = ((df.iloc[:, m][i+1]-df.iloc[:, m][i])*627.509+G)/1.364494722\n",
        "       pKas[i,m] = pKa   \n",
        " pKas = pd.DataFrame(pKas)\n",
        " return (pKas)"
      ]
    },
    {
      "cell_type": "code",
      "execution_count": 11,
      "metadata": {
        "id": "FSLTohrBOjfu"
      },
      "outputs": [],
      "source": [
        "def style(ax):\n",
        "   x_fill = [0.0,14.0,14.0,0.0]\n",
        "   y_fill = [-2, -2, 1.5, 1.5]\n",
        "   y2_fill = [0,-0.83,0.40,1.23]\n",
        "   ax.fill(x_fill,y_fill,color='gray',alpha=0.1)\n",
        "   ax.fill(x_fill,y2_fill,color='gray',alpha=0.1)\n",
        "   plt.xlim([-1, 15]) \n",
        "   plt.ylim([-2, 1.5]) \n",
        "   plt.xlabel('pH',fontsize=14)\n",
        "   plt.xticks(fontsize=14)\n",
        "   plt.yticks(fontsize=14)\n",
        "   plt.ylabel('E (V vs SHE)',fontsize=14)\n",
        "   return()"
      ]
    },
    {
      "cell_type": "code",
      "execution_count": 14,
      "metadata": {
        "id": "27QB7FUc6GTH"
      },
      "outputs": [],
      "source": [
        "def potentialf(G, SHE, root, pKas):\n",
        "   def find(r, col, NaN, pkai):\n",
        "     long = len(df.iloc[:,col])\n",
        "     if r != long-1:\n",
        "       NaN = str(pKas.iloc[r,col])\n",
        "       pkai = pKas.iloc[r,col] \n",
        "       pkai = round(pkai, 2)\n",
        "\n",
        "     sum =  df.iloc[r:,col].isnull().sum()\n",
        "     Dat = r + sum + 1\n",
        "     if NaN == \"nan\" and Dat != long:\n",
        "       r +=1\n",
        "\n",
        "     if pH == pkai and Dat != long:\n",
        "       r +=1\n",
        "     return(r) \n",
        "   # Intervalo de pH\n",
        "   l=[]\n",
        "   rows = len(pKas.axes[0])\n",
        "   cols = len(pKas.axes[1])\n",
        "   #print(rows, cols)\n",
        "\n",
        "   for i in range(cols):\n",
        "     k=0\n",
        "     for k in range(rows):\n",
        "       #print(k,i)\n",
        "       m = pKas.iloc[k,i]\n",
        "       if float(m) == m:\n",
        "         l.append(m)\n",
        "\n",
        "   vmax = int(np.max(l)+2)\n",
        "   vmin = int(np.min(l)-2)\n",
        "   #print(vmax, vmin)\n",
        "   # analisis de datos\n",
        "   df=pd.read_csv(root)\n",
        "   pH=vmin\n",
        "   r1=0\n",
        "   r2=0\n",
        "   r3=0 \n",
        "   NaN=0\n",
        "   pkai=0\n",
        "   colums = len(df.axes[1])\n",
        "\n",
        "   fig, ax = plt.subplots(figsize=(12,8))\n",
        "   while pH < vmax:\n",
        "     pH = round(pH,2)\n",
        "     #print(pH, r1, r2, r3)\n",
        "     if colums < 3:\n",
        "       r1 = find(r1, 0, NaN, pkai)\n",
        "       r2 = find(r2, 1, NaN, pkai)\n",
        "       m=abs(r2-r1)\n",
        "       E1 = ((df.iloc[r2,1]-df.iloc[r1,0])*4.3597447222071E-18 -m*G*6.95E-21)/(-1.602176634E-19)-SHE\n",
        "       EQG1 = E1 - 0.059*m*pH\n",
        "       #EQG1 = round(EQG1,3)\n",
        "       plt.scatter(pH, EQG1 ,color=\"blue\", s=0.1)\n",
        "\n",
        "     else:\n",
        "       r1 = find(r1, 0, NaN, pkai)\n",
        "       r2 = find(r2, 1, NaN, pkai)\n",
        "       r3 = find(r3, 2, NaN, pkai)\n",
        "\n",
        "       m=abs(r2-r1)\n",
        "       E1 = ((df.iloc[r2,1]-df.iloc[r1,0])*4.3597447222071E-18 -m*G*6.95E-21)/(-1.602176634E-19)-SHE\n",
        "       EQG1 = E1 - 0.059*m*pH\n",
        "       EQG1 = round(EQG1,3)\n",
        "\n",
        "       m2=abs(r3-r2)\n",
        "       E2 = ((df.iloc[r3,2]-df.iloc[r2,1])*4.3597447222071E-18 -m2*G*6.95E-21)/(-1.602176634E-19)-SHE\n",
        "       EQG2 = E2 - 0.059*m2*pH\n",
        "       EQG2 = round(EQG2, 3)\n",
        "\n",
        "       if EQG1 < EQG2:\n",
        "          m3=abs(r3-r1)\n",
        "          E3 = ((df.iloc[r3,2]-df.iloc[r1,0])*4.3597447222071E-18 -m3*G*6.95E-21)/(-2*1.602176634E-19)-SHE\n",
        "          EQG3 = E3 - 0.059*(m3/2)*pH\n",
        "          plt.scatter(pH, EQG3 ,color=\"yellow\", s=0.1)\n",
        "       else:\n",
        "          plt.scatter(pH, EQG1 ,color=\"blue\", s=0.1)\n",
        "          plt.scatter(pH, EQG2 ,color=\"black\", s=0.1)\n",
        "      \n",
        "     pH = pH +0.01\n",
        "   style(ax)\n",
        "   plt.show()\n",
        "   return(pH, r1, r2)"
      ]
    },
    {
      "cell_type": "code",
      "source": [
        "root = 'https://docs.google.com/spreadsheets/d/1RXYDzbcczdA4YfBc2kQRIcwTKKi_2q4dCDbcxksQANI/export?format=csv'\n",
        "df=pd.read_csv(root)\n",
        "pKas=fpKa(-265.6660, root)\n",
        "print(pKas)"
      ],
      "metadata": {
        "id": "AMP41ZkxLp17",
        "colab": {
          "base_uri": "https://localhost:8080/"
        },
        "outputId": "c321bf48-244d-49fc-87ca-12108dca790c"
      },
      "execution_count": 6,
      "outputs": [
        {
          "output_type": "stream",
          "name": "stdout",
          "text": [
            "           0          1          2\n",
            "0 -20.073486  -4.598856   7.255109\n",
            "1  -6.684889   2.247894   8.622803\n",
            "2   0.198652  15.493467  31.093185\n",
            "[0, 1, 2]\n",
            "4 -2\n"
          ]
        }
      ]
    },
    {
      "cell_type": "code",
      "source": [
        "#Bz\n",
        "root = 'https://docs.google.com/spreadsheets/d/1RXYDzbcczdA4YfBc2kQRIcwTKKi_2q4dCDbcxksQANI/export?format=csv'\n",
        "df=pd.read_csv(root)\n",
        "pKas=fpKa(-265.6660, root)\n",
        "print(pKas)\n",
        "\n",
        "potentialf(-265.6660, 4.25, root, pKas)  \n"
      ],
      "metadata": {
        "colab": {
          "base_uri": "https://localhost:8080/",
          "height": 632
        },
        "id": "AVhQgOa4wt_e",
        "outputId": "10d70549-a3f9-4982-ac26-c4d2450bd0c0"
      },
      "execution_count": null,
      "outputs": [
        {
          "output_type": "stream",
          "name": "stdout",
          "text": [
            "           0          1          2\n",
            "0        NaN        NaN   3.350695\n",
            "1        NaN  -3.638159   4.879349\n",
            "2   8.540484  18.686900  34.711550\n",
            "3  15.195462        NaN        NaN\n",
            "4  39.338901        NaN        NaN\n"
          ]
        },
        {
          "output_type": "display_data",
          "data": {
            "text/plain": [
              "<Figure size 864x576 with 1 Axes>"
            ],
            "image/png": "[encoded data removed]"
          },
          "metadata": {
            "needs_background": "light"
          }
        },
        {
          "output_type": "execute_result",
          "data": {
            "text/plain": [
              "(41.0, 5, 3)"
            ]
          },
          "metadata": {},
          "execution_count": 131
        }
      ]
    },
    {
      "cell_type": "code",
      "source": [
        "#MB\n",
        "root = 'https://docs.google.com/spreadsheets/d/1RXYDzbcczdA4YfBc2kQRIcwTKKi_2q4dCDbcxksQANI/export?format=csv'\n",
        "df=pd.read_csv(root)\n",
        "pKas=fpKa(-269.4238, root)\n",
        "print(pKas)\n",
        "\n",
        "potentialf(-269.4238, 4.2025, root, pKas) "
      ],
      "metadata": {
        "colab": {
          "base_uri": "https://localhost:8080/",
          "height": 597
        },
        "id": "Qr4UtU99-nWf",
        "outputId": "2e8838e4-3893-4448-cdc2-130a906f6c35"
      },
      "execution_count": null,
      "outputs": [
        {
          "output_type": "stream",
          "name": "stdout",
          "text": [
            "           0          1          2\n",
            "0 -22.827472  -7.352842   4.501122\n",
            "1  -9.438875  -0.506093   5.868816\n",
            "2  -2.555335  12.739480  28.339198\n"
          ]
        },
        {
          "output_type": "display_data",
          "data": {
            "text/plain": [
              "<Figure size 864x576 with 1 Axes>"
            ],
            "image/png": "[encoded data removed]"
          },
          "metadata": {
            "needs_background": "light"
          }
        },
        {
          "output_type": "execute_result",
          "data": {
            "text/plain": [
              "(30.0, 3, 3)"
            ]
          },
          "metadata": {},
          "execution_count": 133
        }
      ]
    },
    {
      "cell_type": "code",
      "source": [
        "#Bpy\n",
        "root = 'https://docs.google.com/spreadsheets/d/1RXYDzbcczdA4YfBc2kQRIcwTKKi_2q4dCDbcxksQANI/export?format=csv'\n",
        "df=pd.read_csv(root)\n",
        "pKas=fpKa(-270.8787, root)\n",
        "print(pKas)\n",
        "\n",
        "potentialf(-270.8787, 4.08845, root, pKas) "
      ],
      "metadata": {
        "colab": {
          "base_uri": "https://localhost:8080/",
          "height": 581
        },
        "id": "4zsGD871_4-_",
        "outputId": "1b7ac572-83e1-43df-ece9-33e175381f81"
      },
      "execution_count": 15,
      "outputs": [
        {
          "output_type": "stream",
          "name": "stdout",
          "text": [
            "          0          1\n",
            "0 -0.432296   7.600034\n",
            "1  5.282220  22.743547\n"
          ]
        },
        {
          "output_type": "display_data",
          "data": {
            "text/plain": [
              "<Figure size 864x576 with 1 Axes>"
            ],
            "image/png": "[encoded data removed]"
          },
          "metadata": {
            "needs_background": "light"
          }
        },
        {
          "output_type": "execute_result",
          "data": {
            "text/plain": [
              "(24.0, 2, 2)"
            ]
          },
          "metadata": {},
          "execution_count": 15
        }
      ]
    }
  ],
  "metadata": {
    "colab": {
      "provenance": [],
      "authorship_tag": "ABX9TyPK9xEYfApNugehekrlvUEP",
      "include_colab_link": true
    },
    "kernelspec": {
      "display_name": "Python 3",
      "name": "python3"
    },
    "language_info": {
      "name": "python"
    }
  },
  "nbformat": 4,
  "nbformat_minor": 0
}